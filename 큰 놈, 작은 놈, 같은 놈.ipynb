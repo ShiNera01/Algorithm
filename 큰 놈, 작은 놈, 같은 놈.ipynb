{
 "cells": [
  {
   "cell_type": "code",
   "execution_count": 1,
   "metadata": {},
   "outputs": [
    {
     "name": "stdout",
     "output_type": "stream",
     "text": [
      "3\n",
      "3 8\n",
      "#1 <\n",
      "7 7\n",
      "#2 =\n",
      "369 123\n",
      "#3 >\n"
     ]
    }
   ],
   "source": [
    "T=int(input())\n",
    "\n",
    "for i in range(T):\n",
    "    a,b=map(int, input().split())\n",
    "    if a>b:\n",
    "        print(\"#%d >\" %(i+1))\n",
    "    elif a==b:\n",
    "        print(\"#%d =\" %(i+1))\n",
    "    else:\n",
    "        print(\"#%d <\" %(i+1))"
   ]
  },
  {
   "cell_type": "code",
   "execution_count": null,
   "metadata": {},
   "outputs": [],
   "source": []
  }
 ],
 "metadata": {
  "kernelspec": {
   "display_name": "Python 3",
   "language": "python",
   "name": "python3"
  },
  "language_info": {
   "codemirror_mode": {
    "name": "ipython",
    "version": 3
   },
   "file_extension": ".py",
   "mimetype": "text/x-python",
   "name": "python",
   "nbconvert_exporter": "python",
   "pygments_lexer": "ipython3",
   "version": "3.7.3"
  }
 },
 "nbformat": 4,
 "nbformat_minor": 4
}
