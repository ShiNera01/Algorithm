{
 "cells": [
  {
   "cell_type": "code",
   "execution_count": null,
   "metadata": {},
   "outputs": [],
   "source": [
    "\n",
    "\n",
    "T = int(input())\n",
    "for i in range(T):\n",
    "    value = 0\n",
    "    date = input()\n",
    "    \n",
    "    if (int(date[4:6])<1 or int(date[4:6])>12) :\n",
    "        value = -1\n",
    "        \n",
    "    elif(int(date[5])==2):\n",
    "        \n",
    "        if(int(date[6:])>28):\n",
    "            value = -1\n",
    "            \n",
    "    elif (int(date[5])==4 or int(date[5])==6 or int(date[5])==9 or int(date[5])==11):\n",
    "        if(int(date[6:])>30):\n",
    "            value = -1\n",
    "          \n",
    "    elif (int(date[6:])>31):\n",
    "        value = -1 \n",
    "    \n",
    "    if value == -1:\n",
    "          print(\"#%d -1\"%(i+1))\n",
    "    else :\n",
    "          print(\"#%d %s/%s/%s\" %(i+1,date[:4],date[4:6],date[6:]))"
   ]
  },
  {
   "cell_type": "code",
   "execution_count": null,
   "metadata": {},
   "outputs": [],
   "source": []
  }
 ],
 "metadata": {
  "kernelspec": {
   "display_name": "Python 3",
   "language": "python",
   "name": "python3"
  },
  "language_info": {
   "codemirror_mode": {
    "name": "ipython",
    "version": 3
   },
   "file_extension": ".py",
   "mimetype": "text/x-python",
   "name": "python",
   "nbconvert_exporter": "python",
   "pygments_lexer": "ipython3",
   "version": "3.7.3"
  }
 },
 "nbformat": 4,
 "nbformat_minor": 4
}
