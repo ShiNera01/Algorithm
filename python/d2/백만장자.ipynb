{
 "cells": [
  {
   "cell_type": "code",
   "execution_count": 2,
   "metadata": {},
   "outputs": [
    {
     "name": "stdout",
     "output_type": "stream",
     "text": [
      "1\n",
      "5\n",
      "1 1 3 4 5\n",
      "#1 11\n"
     ]
    }
   ],
   "source": [
    "\n",
    "T = int(input())\n",
    "sequence = []\n",
    "for i in range(T):\n",
    "    result = 0\n",
    "    N = int(input())\n",
    "    sequence = list(map(int, input().split()))\n",
    "    \n",
    "    for j in range(N):\n",
    "        max = 0\n",
    "        for h in range(j+1,N):\n",
    "            if (max<sequence[h]):\n",
    "                max = sequence[h]\n",
    "            else :\n",
    "                continue\n",
    "\n",
    "        if (max>sequence[j]):\n",
    "            result += (max - sequence[j])\n",
    "        else :\n",
    "            continue\n",
    "                \n",
    "    \n",
    "    print(\"#%d %d\" %(i+1,result))\n",
    "    "
   ]
  },
  {
   "cell_type": "markdown",
   "metadata": {},
   "source": []
  }
 ],
 "metadata": {
  "kernelspec": {
   "display_name": "Python 3",
   "language": "python",
   "name": "python3"
  }
 },
 "nbformat": 4,
 "nbformat_minor": 4
}
